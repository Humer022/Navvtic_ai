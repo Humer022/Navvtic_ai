{
 "cells": [
  {
   "cell_type": "code",
   "execution_count": null,
   "id": "1db9468e",
   "metadata": {},
   "outputs": [
    {
     "name": "stdout",
     "output_type": "stream",
     "text": [
      "1\n",
      "2\n",
      "3\n",
      "4\n",
      "5\n",
      "6\n",
      "7\n",
      "8\n",
      "9\n",
      "10\n"
     ]
    }
   ],
   "source": [
    "# Print 1 to 10 using for loop\n",
    "for i in range(1, 11):\n",
    "    print(i)\n"
   ]
  },
  {
   "cell_type": "code",
   "execution_count": 3,
   "id": "5b2b43e8",
   "metadata": {},
   "outputs": [
    {
     "name": "stdout",
     "output_type": "stream",
     "text": [
      "1 squared is 1\n",
      "2 squared is 4\n",
      "3 squared is 9\n",
      "4 squared is 16\n",
      "5 squared is 25\n"
     ]
    }
   ],
   "source": [
    "# Print the square of numbers from 1 to 5\n",
    "for i in range(1, 6):\n",
    "    print(f\"{i} squared is {i*i}\")\n"
   ]
  },
  {
   "cell_type": "code",
   "execution_count": null,
   "id": "e1a7b8b0",
   "metadata": {},
   "outputs": [
    {
     "name": "stdout",
     "output_type": "stream",
     "text": [
      "2\n",
      "4\n",
      "6\n",
      "8\n",
      "10\n",
      "12\n",
      "14\n",
      "16\n",
      "18\n",
      "20\n"
     ]
    }
   ],
   "source": [
    "#Print even numbers between 1 to 20\n",
    "for i in range(2, 21, 2):\n",
    "    print(i)\n"
   ]
  },
  {
   "cell_type": "code",
   "execution_count": 5,
   "id": "0ca5d2ca",
   "metadata": {},
   "outputs": [
    {
     "name": "stdout",
     "output_type": "stream",
     "text": [
      "p\n",
      "y\n",
      "t\n",
      "h\n",
      "o\n",
      "n\n"
     ]
    }
   ],
   "source": [
    "#Print each letter in a word\n",
    "word = \"python\"\n",
    "for letter in word:\n",
    "    print(letter)\n"
   ]
  },
  {
   "cell_type": "code",
   "execution_count": 4,
   "id": "2b68c23f",
   "metadata": {},
   "outputs": [
    {
     "name": "stdout",
     "output_type": "stream",
     "text": [
      "*\n",
      "**\n",
      "***\n",
      "****\n",
      "*****\n"
     ]
    }
   ],
   "source": [
    "#Print a star pattern\n",
    "for i in range(1, 6):\n",
    "    print(\"*\" * i)\n"
   ]
  },
  {
   "cell_type": "code",
   "execution_count": 6,
   "id": "1629cd4d",
   "metadata": {},
   "outputs": [
    {
     "name": "stdout",
     "output_type": "stream",
     "text": [
      "Sum is: 5050\n"
     ]
    }
   ],
   "source": [
    "#Print the sum of numbers from 1 to 100\n",
    "total = 0\n",
    "for i in range(1, 101):\n",
    "    total += i\n",
    "print(\"Sum is:\", total)\n"
   ]
  },
  {
   "cell_type": "code",
   "execution_count": 7,
   "id": "9c63b360",
   "metadata": {},
   "outputs": [
    {
     "name": "stdout",
     "output_type": "stream",
     "text": [
      "Total vowels: 8\n"
     ]
    }
   ],
   "source": [
    "#Count vowels in a string without using built-in functions\n",
    "text = \"I love programming in Python\"\n",
    "vowels = \"aeiouAEIOU\"\n",
    "count = 0\n",
    "for char in text:\n",
    "    if char in vowels:\n",
    "        count += 1\n",
    "print(\"Total vowels:\", count)\n"
   ]
  },
  {
   "cell_type": "code",
   "execution_count": 8,
   "id": "5d56552c",
   "metadata": {},
   "outputs": [
    {
     "name": "stdout",
     "output_type": "stream",
     "text": [
      "Reversed: olleh\n"
     ]
    }
   ],
   "source": [
    "#Reverse a string using for loop\n",
    "text = \"hello\"\n",
    "reversed_text = \"\"\n",
    "for char in text:\n",
    "    reversed_text = char + reversed_text\n",
    "print(\"Reversed:\", reversed_text)\n"
   ]
  },
  {
   "cell_type": "code",
   "execution_count": null,
   "id": "e7599aee",
   "metadata": {},
   "outputs": [
    {
     "name": "stdout",
     "output_type": "stream",
     "text": [
      "7 x 1 = 7\n",
      "7 x 2 = 14\n",
      "7 x 3 = 21\n",
      "7 x 4 = 28\n",
      "7 x 5 = 35\n",
      "7 x 6 = 42\n",
      "7 x 7 = 49\n",
      "7 x 8 = 56\n",
      "7 x 9 = 63\n",
      "7 x 10 = 70\n"
     ]
    }
   ],
   "source": [
    "#Print multiplication table of a number 7\n",
    "num = 7\n",
    "for i in range(1, 11):\n",
    "    print(f\"{num} x {i} = {num * i}\")\n"
   ]
  },
  {
   "cell_type": "code",
   "execution_count": 10,
   "id": "df6b3d17",
   "metadata": {},
   "outputs": [
    {
     "name": "stdout",
     "output_type": "stream",
     "text": [
      "13 is a prime number\n"
     ]
    }
   ],
   "source": [
    "#Check if a number is prime (no built-ins)\n",
    "num = 13\n",
    "is_prime = True\n",
    "for i in range(2, num):\n",
    "    if num % i == 0:\n",
    "        is_prime = False\n",
    "        break\n",
    "if is_prime:\n",
    "    print(f\"{num} is a prime number\")\n",
    "else:\n",
    "    print(f\"{num} is not a prime number\")\n"
   ]
  },
  {
   "cell_type": "code",
   "execution_count": 11,
   "id": "f8b813d8",
   "metadata": {},
   "outputs": [
    {
     "name": "stdout",
     "output_type": "stream",
     "text": [
      "1\n",
      "2\n",
      "3\n",
      "4\n",
      "5\n",
      "6\n",
      "7\n",
      "8\n",
      "9\n",
      "10\n"
     ]
    }
   ],
   "source": [
    "#Print numbers 1 to 10 using while loop\n",
    "i = 1\n",
    "while i <= 10:\n",
    "    print(i)\n",
    "    i += 1\n"
   ]
  },
  {
   "cell_type": "code",
   "execution_count": 12,
   "id": "e6c85ca0",
   "metadata": {},
   "outputs": [
    {
     "name": "stdout",
     "output_type": "stream",
     "text": [
      "2\n",
      "4\n",
      "6\n",
      "8\n",
      "10\n",
      "12\n",
      "14\n",
      "16\n",
      "18\n",
      "20\n"
     ]
    }
   ],
   "source": [
    "#Print even numbers from 2 to 20\n",
    "i = 2\n",
    "while i <= 20:\n",
    "    print(i)\n",
    "    i += 2\n"
   ]
  },
  {
   "cell_type": "code",
   "execution_count": 13,
   "id": "32321b2a",
   "metadata": {},
   "outputs": [
    {
     "name": "stdout",
     "output_type": "stream",
     "text": [
      "5\n",
      "4\n",
      "3\n",
      "2\n",
      "1\n"
     ]
    }
   ],
   "source": [
    "#Print a countdown from 5 to 1\n",
    "i = 5\n",
    "while i >= 1:\n",
    "    print(i)\n",
    "    i -= 1\n"
   ]
  },
  {
   "cell_type": "code",
   "execution_count": 14,
   "id": "c9d7ebe5",
   "metadata": {},
   "outputs": [
    {
     "name": "stdout",
     "output_type": "stream",
     "text": [
      "l\n",
      "o\n",
      "o\n",
      "p\n"
     ]
    }
   ],
   "source": [
    "#Print characters of a string one by one\n",
    "text = \"loop\"\n",
    "i = 0\n",
    "while i < len(text):\n",
    "    print(text[i])\n",
    "    i += 1\n"
   ]
  },
  {
   "cell_type": "code",
   "execution_count": 15,
   "id": "bf4f527d",
   "metadata": {},
   "outputs": [
    {
     "name": "stdout",
     "output_type": "stream",
     "text": [
      "*\n",
      "**\n",
      "***\n",
      "****\n",
      "*****\n"
     ]
    }
   ],
   "source": [
    "# Print a pattern of stars\n",
    "i = 1\n",
    "while i <= 5:\n",
    "    print(\"*\" * i)\n",
    "    i += 1\n"
   ]
  },
  {
   "cell_type": "code",
   "execution_count": 16,
   "id": "2daf3396",
   "metadata": {},
   "outputs": [
    {
     "name": "stdout",
     "output_type": "stream",
     "text": [
      "Sum of digits: 10\n"
     ]
    }
   ],
   "source": [
    "#Sum of digits of a number\n",
    "num = 1234\n",
    "sum_digits = 0\n",
    "while num > 0:\n",
    "    digit = num % 10\n",
    "    sum_digits += digit\n",
    "    num //= 10\n",
    "print(\"Sum of digits:\", sum_digits)\n",
    "\n"
   ]
  },
  {
   "cell_type": "code",
   "execution_count": 17,
   "id": "32aaa08b",
   "metadata": {},
   "outputs": [
    {
     "name": "stdout",
     "output_type": "stream",
     "text": [
      "Reversed number: 4321\n"
     ]
    }
   ],
   "source": [
    "#Reverse a number (e.g., 1234 → 4321)\n",
    "num = 1234\n",
    "reverse = 0\n",
    "while num > 0:\n",
    "    digit = num % 10\n",
    "    reverse = reverse * 10 + digit\n",
    "    num //= 10\n",
    "print(\"Reversed number:\", reverse)\n"
   ]
  },
  {
   "cell_type": "code",
   "execution_count": 18,
   "id": "0e9e45eb",
   "metadata": {},
   "outputs": [
    {
     "name": "stdout",
     "output_type": "stream",
     "text": [
      "Number of digits: 5\n"
     ]
    }
   ],
   "source": [
    "#Count the number of digits in a number\n",
    "num = 78659\n",
    "count = 0\n",
    "while num > 0:\n",
    "    num //= 10\n",
    "    count += 1\n",
    "print(\"Number of digits:\", count)\n"
   ]
  },
  {
   "cell_type": "code",
   "execution_count": 19,
   "id": "4d174752",
   "metadata": {},
   "outputs": [],
   "source": [
    "#Keep asking user for input until they type 'exit'\n",
    "text = \"\"\n",
    "while text != \"exit\":\n",
    "    text = input(\"Type 'exit' to stop: \")\n"
   ]
  },
  {
   "cell_type": "code",
   "execution_count": 20,
   "id": "dffb5ba1",
   "metadata": {},
   "outputs": [
    {
     "name": "stdout",
     "output_type": "stream",
     "text": [
      "0\n",
      "1\n",
      "1\n",
      "2\n",
      "3\n",
      "5\n",
      "8\n",
      "13\n",
      "21\n",
      "34\n"
     ]
    }
   ],
   "source": [
    "#Generate Fibonacci series up to N terms\n",
    "n = 10  # number of terms\n",
    "a, b = 0, 1\n",
    "i = 0\n",
    "while i < n:\n",
    "    print(a)\n",
    "    a, b = b, a + b\n",
    "    i += 1\n"
   ]
  }
 ],
 "metadata": {
  "kernelspec": {
   "display_name": "Python 3",
   "language": "python",
   "name": "python3"
  },
  "language_info": {
   "codemirror_mode": {
    "name": "ipython",
    "version": 3
   },
   "file_extension": ".py",
   "mimetype": "text/x-python",
   "name": "python",
   "nbconvert_exporter": "python",
   "pygments_lexer": "ipython3",
   "version": "3.13.2"
  }
 },
 "nbformat": 4,
 "nbformat_minor": 5
}

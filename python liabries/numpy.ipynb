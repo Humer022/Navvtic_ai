{
 "cells": [
  {
   "cell_type": "code",
   "execution_count": null,
   "id": "3a3ceb81",
   "metadata": {},
   "outputs": [],
   "source": [
    "print(\"hello world\")"
   ]
  },
  {
   "cell_type": "code",
   "execution_count": 1,
   "id": "59ba8498",
   "metadata": {},
   "outputs": [
    {
     "name": "stdout",
     "output_type": "stream",
     "text": [
      "[1 2] <class 'numpy.ndarray'>\n"
     ]
    }
   ],
   "source": [
    "import numpy as np\n",
    "arr1 = np.array([1,2])\n",
    "print(arr1,type(arr1))                                                                                                                                                                                                                                                                                                                                                                                                                                                                                                                                                                                                                                                                                                                                                                                                                                                                                                                                                                                                                                                                                                                                                                                                                                                                                                                                                                                                                                                                                                                                                                                                                                                                                                                                                                                                                                                                                                                                                                                                                                                                                                                                                                                                                                                                                                                                                                                                                                                                                                                                                                                                                                                                                                                                       \n",
    "\n"
   ]
  },
  {
   "cell_type": "code",
   "execution_count": null,
   "id": "0eabb964",
   "metadata": {},
   "outputs": [],
   "source": [
    "arr2 = np.array([4,3])\n",
    "print(arr2,arr2.ndim)"
   ]
  },
  {
   "cell_type": "code",
   "execution_count": null,
   "id": "2f1f2fe6",
   "metadata": {},
   "outputs": [],
   "source": [
    "arr3 = np.array([2], ndmin=6)\n",
    "print(arr3,arr3.ndim)"
   ]
  },
  {
   "cell_type": "code",
   "execution_count": null,
   "id": "50d9081a",
   "metadata": {},
   "outputs": [],
   "source": [
    "arr4 = np.array([[1,2],[3,4]])\n",
    "print(arr4,arr4.ndim)"
   ]
  },
  {
   "cell_type": "code",
   "execution_count": null,
   "id": "a1fbb656",
   "metadata": {},
   "outputs": [],
   "source": [
    "arr5 = np.array([[1,2],[3,4],[5,6]])\n",
    "print(arr5,arr5.ndim)"
   ]
  },
  {
   "cell_type": "code",
   "execution_count": null,
   "id": "455ef433",
   "metadata": {},
   "outputs": [],
   "source": [
    "arr6 = np.array([[[1,2],[3,4]],[[5,6],[7,8]]])\n",
    "print(arr6,arr6.ndim)"
   ]
  },
  {
   "cell_type": "code",
   "execution_count": null,
   "id": "263793e9",
   "metadata": {},
   "outputs": [],
   "source": [
    "#replace array items\n",
    "arr7 = np.array([1,2,3])\n",
    "arr7[0] = 5\n",
    "arr7[1] = 10\n",
    "arr7[2] = 15\n",
    "print(arr7)"
   ]
  },
  {
   "cell_type": "code",
   "execution_count": null,
   "id": "3ea46ea9",
   "metadata": {},
   "outputs": [],
   "source": [
    "arr8 = np.array([[[1,2],[3,4]],[[5,6],[7,8]]])\n",
    "arr8[0][0][1] = 4\n",
    "arr8[0][1][0] = 6\n",
    "#arr8[]\n",
    "print(arr8)"
   ]
  },
  {
   "cell_type": "code",
   "execution_count": null,
   "id": "080319ab",
   "metadata": {},
   "outputs": [],
   "source": [
    "# reverse the array\n",
    "arr8 = np.array([1,3,3,4,5,6,7,7,8,10])\n",
    "print(arr8[::-1])\n",
    "#if i want getting every second value and output in reverse order\n",
    "print(arr8[::-2])\n",
    "#if i want getting odd value and output in reverse order\n",
    "reversed_arr = arr8[::-1]\n",
    "odd_values_reversed = reversed_arr[reversed_arr % 2 != 0]\n",
    "print(odd_values_reversed)\n",
    "#if i want getting even value and output in reverse order\n",
    "even_values_reversed = reversed_arr[reversed_arr % 2 == 0]\n",
    "print(even_values_reversed)"
   ]
  },
  {
   "cell_type": "code",
   "execution_count": null,
   "id": "50d145f0",
   "metadata": {},
   "outputs": [],
   "source": [
    "a = np.array([[2,4],[3,6]])\n",
    "b = np.array([[2,5],[4,7]])\n",
    "result1 = a + b\n",
    "result2 = a * b\n",
    "result3 = a - b\n",
    "result4 = a / b\n",
    "result5 = a // b\n",
    "print(result1)\n",
    "print(result2)\n",
    "print(result3)\n",
    "print(result4)\n",
    "print(result5)"
   ]
  },
  {
   "cell_type": "code",
   "execution_count": null,
   "id": "14e010a1",
   "metadata": {},
   "outputs": [],
   "source": [
    "arr9 = np.array([1,2,3,4,5])\n",
    "arr10 = arr9.astype(\"S\")\n",
    "print(arr10.dtype)"
   ]
  },
  {
   "cell_type": "code",
   "execution_count": null,
   "id": "513459ac",
   "metadata": {},
   "outputs": [],
   "source": [
    "arr11 = np.mean([1,2,3,4,5,6,7,8])\n",
    "arr12 = np.median([1,2,3,4,5,6,7,8])\n",
    "arr13 = np.min([1,2,3,4,5,6,7,8])\n",
    "arr14 = np.sum([1,2,3,4,5,6,7,8])\n",
    "arr15 = np.max([1,2,3,4,5,6,7,8])\n",
    "print(arr11)\n",
    "print(arr12)\n",
    "print(arr13)\n",
    "print(arr14)\n",
    "print(arr15)\n",
    "\n"
   ]
  },
  {
   "cell_type": "code",
   "execution_count": null,
   "id": "9af014a9",
   "metadata": {},
   "outputs": [],
   "source": [
    "#values pass by value\n",
    "apk = list([1,2,3,4,5])\n",
    "arr7 = np.array(apk) #its just a copy of apk not memory sharing\n",
    "arr7[0] = 30\n",
    "print(arr7)\n",
    "print(apk)\n",
    "\n",
    "#value place by reference\n",
    "apk1 = list([1,2,3,4,5])\n",
    "apk2 = apk1\n",
    "apk2[0] = 20\n",
    "print(apk2)\n",
    "print(apk1)"
   ]
  },
  {
   "cell_type": "code",
   "execution_count": null,
   "id": "5d6e14c7",
   "metadata": {},
   "outputs": [],
   "source": [
    "import numpy as np\n",
    "a = np.arange(6)\n",
    "print(a)\n",
    "a.shape"
   ]
  },
  {
   "cell_type": "code",
   "execution_count": null,
   "id": "4c984ad4",
   "metadata": {},
   "outputs": [],
   "source": [
    "a2 = a[np.newaxis, :]\n",
    "print(a2)\n",
    "a2.shape"
   ]
  },
  {
   "cell_type": "code",
   "execution_count": null,
   "id": "6a3953a5",
   "metadata": {},
   "outputs": [],
   "source": [
    "a3 =a2[np.newaxis, :]\n",
    "print(a3)\n",
    "a3.shape"
   ]
  }
 ],
 "metadata": {
  "kernelspec": {
   "display_name": "liabries",
   "language": "python",
   "name": "python3"
  },
  "language_info": {
   "codemirror_mode": {
    "name": "ipython",
    "version": 3
   },
   "file_extension": ".py",
   "mimetype": "text/x-python",
   "name": "python",
   "nbconvert_exporter": "python",
   "pygments_lexer": "ipython3",
   "version": "3.13.2"
  }
 },
 "nbformat": 4,
 "nbformat_minor": 5
}
